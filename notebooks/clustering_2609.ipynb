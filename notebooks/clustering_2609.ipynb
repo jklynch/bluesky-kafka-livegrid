{
 "cells": [
  {
   "cell_type": "code",
   "execution_count": 1,
   "metadata": {},
   "outputs": [],
   "source": [
    "import time\n",
    "\n",
    "import dask.array as da\n",
    "from dask.distributed import Client\n",
    "from dask_ml.preprocessing import RobustScaler as dml_RobustScaler\n",
    "\n",
    "import matplotlib.pyplot as plt\n",
    "import numpy as np\n",
    "\n",
    "from sklearn.preprocessing import robust_scale as skl_robust_scale\n",
    "\n",
    "from databroker import Broker"
   ]
  },
  {
   "cell_type": "code",
   "execution_count": 2,
   "metadata": {},
   "outputs": [
    {
     "data": {
      "text/html": [
       "<table style=\"border: 2px solid white;\">\n",
       "<tr>\n",
       "<td style=\"vertical-align: top; border: 0px solid white\">\n",
       "<h3 style=\"text-align: left;\">Client</h3>\n",
       "<ul style=\"text-align: left; list-style: none; margin: 0; padding: 0;\">\n",
       "  <li><b>Scheduler: </b>inproc://10.28.32.204/43100/1</li>\n",
       "  <li><b>Dashboard: </b><a href='http://10.28.32.204/43100/1:8787/status' target='_blank'>http://10.28.32.204/43100/1:8787/status</a>\n",
       "</ul>\n",
       "</td>\n",
       "<td style=\"vertical-align: top; border: 0px solid white\">\n",
       "<h3 style=\"text-align: left;\">Cluster</h3>\n",
       "<ul style=\"text-align: left; list-style:none; margin: 0; padding: 0;\">\n",
       "  <li><b>Workers: </b>1</li>\n",
       "  <li><b>Cores: </b>16</li>\n",
       "  <li><b>Memory: </b>33.27 GB</li>\n",
       "</ul>\n",
       "</td>\n",
       "</tr>\n",
       "</table>"
      ],
      "text/plain": [
       "<Client: 'inproc://10.28.32.204/43100/1' processes=1 threads=16, memory=33.27 GB>"
      ]
     },
     "execution_count": 2,
     "metadata": {},
     "output_type": "execute_result"
    }
   ],
   "source": [
    "dask_client = Client(processes=False)\n",
    "dask_client"
   ]
  },
  {
   "cell_type": "code",
   "execution_count": 3,
   "metadata": {},
   "outputs": [],
   "source": [
    "dbkr = Broker.named(\"pdf\")"
   ]
  },
  {
   "cell_type": "code",
   "execution_count": 4,
   "metadata": {},
   "outputs": [],
   "source": [
    "scan_2609 = dbkr[2069]"
   ]
  },
  {
   "cell_type": "code",
   "execution_count": 5,
   "metadata": {},
   "outputs": [],
   "source": [
    "def get_image_and_darkframe(scan_id, databroker=None):\n",
    "    if databroker is None:\n",
    "        databroker = Broker.named(\"pdf\")\n",
    "    image_key = databroker[scan_id].start[\"detectors\"][0] + \"_image\"\n",
    "    print(f\"image key: {image_key}\")\n",
    "    image = databroker[scan_id].table(fill=True)[image_key][1]\n",
    "    print(f\"image data type: {image.dtype}\")\n",
    "    if len(image) == 0:\n",
    "        raise Exception(f\"empty image for scan id {scan_id}\")\n",
    "    elif \"sc_dk_field_uid\" not in databroker[scan_id].start:\n",
    "        raise Exception(f\"no darkframe for scan id {scan_id}\")\n",
    "    else:\n",
    "        dark_frame_scan_uid = databroker[scan_id].start[\"sc_dk_field_uid\"]\n",
    "        dark_image = databroker[dark_frame_scan_uid].table(fill=True)[image_key][1]\n",
    "        print(f\"dark image data type: {dark_image.dtype}\")\n",
    "        \n",
    "        #image_f = image.astype(np.float64)\n",
    "        #dark_image_f = dark_image.astype(np.float64)\n",
    "        return image, dark_image"
   ]
  },
  {
   "cell_type": "code",
   "execution_count": 6,
   "metadata": {
    "scrolled": false
   },
   "outputs": [
    {
     "name": "stdout",
     "output_type": "stream",
     "text": [
      "image key: pe1c_image\n",
      "image data type: uint16\n",
      "dark image data type: uint16\n"
     ]
    }
   ],
   "source": [
    "image, dark_image = get_image_and_darkframe(2069)"
   ]
  },
  {
   "cell_type": "code",
   "execution_count": 7,
   "metadata": {},
   "outputs": [
    {
     "data": {
      "image/png": "[encoded data removed]",
      "text/plain": [
       "<Figure size 432x288 with 4 Axes>"
      ]
     },
     "metadata": {
      "needs_background": "light"
     },
     "output_type": "display_data"
    }
   ],
   "source": [
    "fig, axs = plt.subplots(nrows=1, ncols=4)\n",
    "axs[0].imshow(image)\n",
    "axs[0].set_title(\"Image\")\n",
    "axs[1].imshow(dark_image)\n",
    "axs[1].set_title(\"Dark Image\")\n",
    "axs[2].imshow(image - dark_image)\n",
    "axs[2].set_title(\"np.uint16\\nunderflow\")\n",
    "axs[3].imshow(image.astype(np.float64) - dark_image.astype(np.float64))\n",
    "axs[3].set_title(\"np.float64\")\n",
    "plt.show()"
   ]
  },
  {
   "cell_type": "code",
   "execution_count": 8,
   "metadata": {},
   "outputs": [],
   "source": [
    "def normalized_dark_subtracted_images(scan_ids):\n",
    "    databroker = Broker.named(\"pdf\")\n",
    "    dark_subtracted_images = np.zeros((len(scan_ids), 2048*2048), dtype=np.float64)\n",
    "    print(f\"allocated {dark_subtracted_images.shape} image array\")\n",
    "    for i, scan_id in enumerate(scan_ids):\n",
    "        image, dark_image = get_image_and_darkframe(scan_id)\n",
    "        print(f\"loaded image and dark image for scan id {scan_id}\")\n",
    "        dark_subtracted_images[i, :] = (image.astype(np.float64) - dark_image.astype(np.float64)).reshape(1, -1)\n",
    "    \n",
    "    t0 = time.time()\n",
    "    normalized_dark_subtracted_images = dml_RobustScaler().fit_transform(da.from_array(dark_subtracted_images))\n",
    "    t1 = time.time()\n",
    "    print(f\"dask_ml.preprocessing.robust_scale finished in {t1-t0:.3f}s\")\n",
    "\n",
    "    t0 = time.time()\n",
    "    normalized_dark_subtracted_images = skl_robust_scale(dark_subtracted_images)\n",
    "    t1 = time.time()\n",
    "    print(f\"sklearn.preprocessing.robust_scale finished in {t1-t0:.3f}s\")\n",
    "    \n",
    "    return normalized_dark_subtracted_images"
   ]
  },
  {
   "cell_type": "code",
   "execution_count": null,
   "metadata": {},
   "outputs": [
    {
     "name": "stdout",
     "output_type": "stream",
     "text": [
      "allocated (2, 4194304) image array\n",
      "image key: pe1c_image\n",
      "image data type: uint16\n",
      "dark image data type: uint16\n",
      "loaded image and dark image for scan id 2069\n",
      "image key: pe1c_image\n",
      "image data type: uint16\n",
      "dark image data type: uint16\n",
      "loaded image and dark image for scan id 2069\n"
     ]
    }
   ],
   "source": [
    "t0 = time.time()\n",
    "normalized_dark_subtracted_images([2069, 2069])\n",
    "t1 = time.time()\n",
    "print(f\"{t1-t0}s\")"
   ]
  },
  {
   "cell_type": "code",
   "execution_count": null,
   "metadata": {},
   "outputs": [],
   "source": []
  }
 ],
 "metadata": {
  "kernelspec": {
   "display_name": "Python 3",
   "language": "python",
   "name": "python3"
  },
  "language_info": {
   "codemirror_mode": {
    "name": "ipython",
    "version": 3
   },
   "file_extension": ".py",
   "mimetype": "text/x-python",
   "name": "python",
   "nbconvert_exporter": "python",
   "pygments_lexer": "ipython3",
   "version": "3.7.6"
  }
 },
 "nbformat": 4,
 "nbformat_minor": 4
}
